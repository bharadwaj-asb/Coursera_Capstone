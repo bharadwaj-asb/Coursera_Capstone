{
 "cells": [
  {
   "cell_type": "markdown",
   "metadata": {
    "collapsed": true
   },
   "source": [
    "<h1>The Battle of the Neighborhoods - Week 1</h1>\n",
    "<h3>Data :</h3>\n",
    "One city will be analysed in this project : New York City.\n",
    "\n",
    "We will be using the below datasets for analysing Newyork city\n",
    "\n",
    "<h3>Data 1 :</h3> Neighborhood has a total of 5 boroughs and 306 neighborhoods. In order to segement the neighborhoods and explore them, we will essentially need a dataset that contains the 5 boroughs and the neighborhoods that exist in each borough as well as the the latitude and logitude coordinates of each neighborhood.\n",
    "\n",
    "This dataset exists for free on the web. Link to the dataset is <a href=\" https://geo.nyu.edu/catalog/nyu_2451_34572\">here</a>\n",
    "\n",
    "<h3>Data 2 :</h3> Second data which will be used is the DOHMH Farmers Markets and Food Boxes dataset. In this we will be using the data of Farmers Markets.\n",
    "\n",
    "https://data.cityofnewyork.us/dataset/DOHMH-Farmers-Markets-and-Food-Boxes/8vwk-6iz2\n",
    "\n",
    "Website-https://www.grownyc.org/greenmarketco/foodbox\n",
    "GrowNYC's Fresh Food Box Program is a food access initiative that enables under-served communities to purchase fresh, healthy, and primarily regionally grown produce well below traditional retail prices.\n",
    "\n",
    "A farmers' market is often defined as a public site used by two or more local or regional producers for the direct sale of farm products to consumers. In addition to fresh fruits and vegetables, markets may sell dairy products, fish, meat, baked goods, and other minimally processed foods.\n",
    "\n",
    "<h3>Data 3 :</h3> For the below analysis we will get data from wikipedia as given below :\n",
    "<ol>\n",
    "    <li>New York Population</li>\n",
    "    <li>New York City Demographics</li>\n",
    "    <li>Cuisine of New York city</li>\n",
    "    </ol>\n",
    "    \n",
    "https://en.wikipedia.org/wiki/New_York_City<br>\n",
    "https://en.wikipedia.org/wiki/Economy_of_New_York_City<br>\n",
    "https://en.wikipedia.org/wiki/Portal:New_York_City<br>\n",
    "https://en.wikipedia.org/wiki/Cuisine_of_New_York_City<br>\n",
    "https://en.wikipedia.org/wiki/List_of_Michelin_starred_restaurants_in_New_York_City<br>\n",
    "\n",
    "<h3>Data 4 :</h3> Newyork city geographical coordinates data will be utilized as input for the Foursquare API, that will be leveraged to provision venues information for each neighborhood.We will use the Foursquare API to explore neighborhoods in New York City"
   ]
  }
 ],
 "metadata": {
  "kernelspec": {
   "display_name": "Python 3.6",
   "language": "python",
   "name": "python3"
  },
  "language_info": {
   "codemirror_mode": {
    "name": "ipython",
    "version": 3
   },
   "file_extension": ".py",
   "mimetype": "text/x-python",
   "name": "python",
   "nbconvert_exporter": "python",
   "pygments_lexer": "ipython3",
   "version": "3.6.9"
  }
 },
 "nbformat": 4,
 "nbformat_minor": 1
}
